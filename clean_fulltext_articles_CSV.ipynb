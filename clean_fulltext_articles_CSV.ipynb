{
 "cells": [
  {
   "cell_type": "markdown",
   "id": "2d84e750",
   "metadata": {},
   "source": [
    "# Data analysis and data cleaning\n",
    "The data set is checked for completeness and cleaned."
   ]
  },
  {
   "cell_type": "code",
   "execution_count": 1,
   "id": "fa9228c9",
   "metadata": {},
   "outputs": [],
   "source": [
    "# imports\n",
    "import pandas as pd\n",
    "import regex as re"
   ]
  },
  {
   "cell_type": "code",
   "execution_count": 2,
   "id": "91221a58",
   "metadata": {},
   "outputs": [],
   "source": [
    "# reads csv as dataframe\n",
    "df = pd.read_csv('fulltext_articles.csv')"
   ]
  },
  {
   "cell_type": "code",
   "execution_count": 12,
   "id": "a745607c",
   "metadata": {},
   "outputs": [
    {
     "data": {
      "text/html": [
       "<div>\n",
       "<style scoped>\n",
       "    .dataframe tbody tr th:only-of-type {\n",
       "        vertical-align: middle;\n",
       "    }\n",
       "\n",
       "    .dataframe tbody tr th {\n",
       "        vertical-align: top;\n",
       "    }\n",
       "\n",
       "    .dataframe thead th {\n",
       "        text-align: right;\n",
       "    }\n",
       "</style>\n",
       "<table border=\"1\" class=\"dataframe\">\n",
       "  <thead>\n",
       "    <tr style=\"text-align: right;\">\n",
       "      <th></th>\n",
       "      <th>url</th>\n",
       "      <th>title</th>\n",
       "      <th>abstract</th>\n",
       "      <th>fulltext</th>\n",
       "    </tr>\n",
       "  </thead>\n",
       "  <tbody>\n",
       "    <tr>\n",
       "      <th>0</th>\n",
       "      <td>https://www.microbiologyresearch.org/content/j...</td>\n",
       "      <td>Aliidiomarina halalkaliphila sp. nov., a haloa...</td>\n",
       "      <td>A haloalkaliphilic strain (IM 1326T) was isola...</td>\n",
       "      <td>ANI, average nucleotide identity; ANIb, averag...</td>\n",
       "    </tr>\n",
       "    <tr>\n",
       "      <th>1</th>\n",
       "      <td>https://www.microbiologyresearch.org/content/j...</td>\n",
       "      <td>Pseudomonas germanica sp. nov., isolated from ...</td>\n",
       "      <td>Through bacterial plant–endophyte extraction f...</td>\n",
       "      <td>NaN</td>\n",
       "    </tr>\n",
       "    <tr>\n",
       "      <th>2</th>\n",
       "      <td>https://www.microbiologyresearch.org/content/j...</td>\n",
       "      <td>Halomonas antri sp. nov., a carotenoid-produci...</td>\n",
       "      <td>A Gram-negative, moderately halophilic bacteri...</td>\n",
       "      <td>NaN</td>\n",
       "    </tr>\n",
       "    <tr>\n",
       "      <th>3</th>\n",
       "      <td>https://www.microbiologyresearch.org/content/j...</td>\n",
       "      <td>Mameliella sediminis sp. nov., a novel polyhyd...</td>\n",
       "      <td>A Gram-stain-negative, strictly aerobic, non-m...</td>\n",
       "      <td>ANI, average nucleotide identity; dDDH, digita...</td>\n",
       "    </tr>\n",
       "    <tr>\n",
       "      <th>4</th>\n",
       "      <td>https://www.microbiologyresearch.org/content/j...</td>\n",
       "      <td>Geobacter benzoatilyticus sp. nov., a novel be...</td>\n",
       "      <td>A strictly anaerobic bacterial strain, designa...</td>\n",
       "      <td>NaN</td>\n",
       "    </tr>\n",
       "  </tbody>\n",
       "</table>\n",
       "</div>"
      ],
      "text/plain": [
       "                                                 url  \\\n",
       "0  https://www.microbiologyresearch.org/content/j...   \n",
       "1  https://www.microbiologyresearch.org/content/j...   \n",
       "2  https://www.microbiologyresearch.org/content/j...   \n",
       "3  https://www.microbiologyresearch.org/content/j...   \n",
       "4  https://www.microbiologyresearch.org/content/j...   \n",
       "\n",
       "                                               title  \\\n",
       "0  Aliidiomarina halalkaliphila sp. nov., a haloa...   \n",
       "1  Pseudomonas germanica sp. nov., isolated from ...   \n",
       "2  Halomonas antri sp. nov., a carotenoid-produci...   \n",
       "3  Mameliella sediminis sp. nov., a novel polyhyd...   \n",
       "4  Geobacter benzoatilyticus sp. nov., a novel be...   \n",
       "\n",
       "                                            abstract  \\\n",
       "0  A haloalkaliphilic strain (IM 1326T) was isola...   \n",
       "1  Through bacterial plant–endophyte extraction f...   \n",
       "2  A Gram-negative, moderately halophilic bacteri...   \n",
       "3  A Gram-stain-negative, strictly aerobic, non-m...   \n",
       "4  A strictly anaerobic bacterial strain, designa...   \n",
       "\n",
       "                                            fulltext  \n",
       "0  ANI, average nucleotide identity; ANIb, averag...  \n",
       "1                                                NaN  \n",
       "2                                                NaN  \n",
       "3  ANI, average nucleotide identity; dDDH, digita...  \n",
       "4                                                NaN  "
      ]
     },
     "execution_count": 12,
     "metadata": {},
     "output_type": "execute_result"
    }
   ],
   "source": [
    "df.head()"
   ]
  },
  {
   "cell_type": "markdown",
   "id": "c508d407",
   "metadata": {},
   "source": [
    "## Dataset analysis"
   ]
  },
  {
   "cell_type": "code",
   "execution_count": 13,
   "id": "7171409d",
   "metadata": {},
   "outputs": [
    {
     "data": {
      "text/plain": [
       "17006"
      ]
     },
     "execution_count": 13,
     "metadata": {},
     "output_type": "execute_result"
    }
   ],
   "source": [
    "# number of rows\n",
    "len(df)"
   ]
  },
  {
   "cell_type": "code",
   "execution_count": 14,
   "id": "fc4638e8",
   "metadata": {},
   "outputs": [
    {
     "name": "stdout",
     "output_type": "stream",
     "text": [
      "0\n"
     ]
    }
   ],
   "source": [
    "# counts duplicate rows\n",
    "print((df.duplicated()).sum())"
   ]
  },
  {
   "cell_type": "code",
   "execution_count": 15,
   "id": "b50c6e59",
   "metadata": {},
   "outputs": [],
   "source": [
    "# counts NaN values in colums\n",
    "url_NaN = df['url'].isna().sum()\n",
    "title_NaN = df['title'].isna().sum()\n",
    "abstract_NaN = df['abstract'].isna().sum()\n",
    "fulltext_NaN = df['fulltext'].isna().sum()"
   ]
  },
  {
   "cell_type": "code",
   "execution_count": 16,
   "id": "eb4bf6c8",
   "metadata": {},
   "outputs": [
    {
     "name": "stdout",
     "output_type": "stream",
     "text": [
      "0 \n",
      " 5 \n",
      " 1680 \n",
      " 2375\n"
     ]
    }
   ],
   "source": [
    "print(url_NaN,'\\n', title_NaN,'\\n', abstract_NaN,'\\n', fulltext_NaN)"
   ]
  },
  {
   "cell_type": "code",
   "execution_count": 17,
   "id": "409f1998",
   "metadata": {},
   "outputs": [
    {
     "name": "stdout",
     "output_type": "stream",
     "text": [
      "17006\n",
      "17001\n",
      "15326\n",
      "14631\n"
     ]
    }
   ],
   "source": [
    "# calculates number of rows with content for every column\n",
    "print(len(df)-url_NaN)\n",
    "print(len(df)-title_NaN)\n",
    "print(len(df)-abstract_NaN)\n",
    "print(len(df)-fulltext_NaN)"
   ]
  },
  {
   "cell_type": "code",
   "execution_count": 18,
   "id": "ac0e804b",
   "metadata": {},
   "outputs": [],
   "source": [
    "# calculates NaN ratio of colums\n",
    "url_NaN_ratio = url_NaN/len(df)\n",
    "title_NaN_ratio = title_NaN/len(df)\n",
    "abstract_NaN_ratio = abstract_NaN/len(df)\n",
    "fulltext_NaN_ratio = fulltext_NaN/len(df)"
   ]
  },
  {
   "cell_type": "code",
   "execution_count": 19,
   "id": "eb6bdb68",
   "metadata": {},
   "outputs": [
    {
     "name": "stdout",
     "output_type": "stream",
     "text": [
      "0.0 \n",
      " 0.00029401387745501585 \n",
      " 0.09878866282488534 \n",
      " 0.13965659179113254\n"
     ]
    }
   ],
   "source": [
    "print(url_NaN_ratio,'\\n', title_NaN_ratio,'\\n', abstract_NaN_ratio,'\\n', fulltext_NaN_ratio)"
   ]
  },
  {
   "cell_type": "markdown",
   "id": "426a1449",
   "metadata": {},
   "source": [
    "## Dataset cleaning"
   ]
  },
  {
   "cell_type": "code",
   "execution_count": 21,
   "id": "d29a0707",
   "metadata": {},
   "outputs": [],
   "source": [
    "# removes citation brackets \n",
    "df['fulltext'] =  [re.sub(r'\\s[\\(\\[].*?[\\)\\]]','', str(x)) for x in df['fulltext']]"
   ]
  },
  {
   "cell_type": "code",
   "execution_count": 22,
   "id": "a0556e9d",
   "metadata": {},
   "outputs": [],
   "source": [
    "# removes dirty data like '.,,,' from text\n",
    "df['fulltext'] = df['fulltext'].replace(regex = ['\\.,{2,}'], value = '. ')"
   ]
  },
  {
   "cell_type": "code",
   "execution_count": 23,
   "id": "74f65460",
   "metadata": {},
   "outputs": [],
   "source": [
    "# finds dirty data like '\\.,\\w' and replaces it  ',\\.'' with '\\.'\n",
    "df['fulltext'] = df['fulltext'].replace(regex = ['\\.,(\\w)'], value = r'. \\1')"
   ]
  },
  {
   "cell_type": "code",
   "execution_count": 24,
   "id": "1781187c",
   "metadata": {},
   "outputs": [],
   "source": [
    "# saves df as csv\n",
    "df.to_csv('cleaned_fulltext_articles.csv', index=False)"
   ]
  }
 ],
 "metadata": {
  "kernelspec": {
   "display_name": "venv_spacy",
   "language": "python",
   "name": "venv_spacy"
  },
  "language_info": {
   "codemirror_mode": {
    "name": "ipython",
    "version": 3
   },
   "file_extension": ".py",
   "mimetype": "text/x-python",
   "name": "python",
   "nbconvert_exporter": "python",
   "pygments_lexer": "ipython3",
   "version": "3.10.2"
  }
 },
 "nbformat": 4,
 "nbformat_minor": 5
}
